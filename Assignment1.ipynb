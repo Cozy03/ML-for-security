{
 "cells": [
  {
   "cell_type": "markdown",
   "id": "e6fa8a78",
   "metadata": {},
   "source": [
    "![Python logo](https://www.python.org/static/community_logos/python-logo-master-v3-TM.png)"
   ]
  },
  {
   "cell_type": "markdown",
   "id": "9c68c4b6",
   "metadata": {},
   "source": [
    "# Linear Regression in Bivariate Data\n",
    "\n",
    "**Devdutto Kanungo**\n",
    "\n",
    "**CRS2112**"
   ]
  },
  {
   "cell_type": "markdown",
   "id": "6ceb414d",
   "metadata": {},
   "source": [
    "---\n",
    "<font color=\"blue\">*Insert the libraries*</font>\n",
    "---"
   ]
  },
  {
   "cell_type": "code",
   "execution_count": 1,
   "id": "675c2f27",
   "metadata": {},
   "outputs": [],
   "source": [
    "%matplotlib inline\n",
    "import numpy as np\n",
    "import pandas as pd\n",
    "import matplotlib.pyplot as plt\n",
    "plt.rcParams['figure.figsize']=(20.0,10.0)\n",
    "\n",
    "df=pd.read_csv(r\"C:\\Users\\Devdutto\\Downloads\\headbrain.csv\")\n"
   ]
  },
  {
   "cell_type": "markdown",
   "id": "2f59614a",
   "metadata": {},
   "source": [
    "---\n",
    "<font color=\"blue\">*Check first 5 rows*</font>\n",
    "---"
   ]
  },
  {
   "cell_type": "code",
   "execution_count": 2,
   "id": "acd3af39",
   "metadata": {},
   "outputs": [
    {
     "data": {
      "text/html": [
       "<div>\n",
       "<style scoped>\n",
       "    .dataframe tbody tr th:only-of-type {\n",
       "        vertical-align: middle;\n",
       "    }\n",
       "\n",
       "    .dataframe tbody tr th {\n",
       "        vertical-align: top;\n",
       "    }\n",
       "\n",
       "    .dataframe thead th {\n",
       "        text-align: right;\n",
       "    }\n",
       "</style>\n",
       "<table border=\"1\" class=\"dataframe\">\n",
       "  <thead>\n",
       "    <tr style=\"text-align: right;\">\n",
       "      <th></th>\n",
       "      <th>Gender</th>\n",
       "      <th>Age Range</th>\n",
       "      <th>Head Size(cm^3)</th>\n",
       "      <th>Brain Weight(grams)</th>\n",
       "    </tr>\n",
       "  </thead>\n",
       "  <tbody>\n",
       "    <tr>\n",
       "      <th>0</th>\n",
       "      <td>1</td>\n",
       "      <td>1</td>\n",
       "      <td>4512</td>\n",
       "      <td>1530</td>\n",
       "    </tr>\n",
       "    <tr>\n",
       "      <th>1</th>\n",
       "      <td>1</td>\n",
       "      <td>1</td>\n",
       "      <td>3738</td>\n",
       "      <td>1297</td>\n",
       "    </tr>\n",
       "    <tr>\n",
       "      <th>2</th>\n",
       "      <td>1</td>\n",
       "      <td>1</td>\n",
       "      <td>4261</td>\n",
       "      <td>1335</td>\n",
       "    </tr>\n",
       "    <tr>\n",
       "      <th>3</th>\n",
       "      <td>1</td>\n",
       "      <td>1</td>\n",
       "      <td>3777</td>\n",
       "      <td>1282</td>\n",
       "    </tr>\n",
       "    <tr>\n",
       "      <th>4</th>\n",
       "      <td>1</td>\n",
       "      <td>1</td>\n",
       "      <td>4177</td>\n",
       "      <td>1590</td>\n",
       "    </tr>\n",
       "  </tbody>\n",
       "</table>\n",
       "</div>"
      ],
      "text/plain": [
       "   Gender  Age Range  Head Size(cm^3)  Brain Weight(grams)\n",
       "0       1          1             4512                 1530\n",
       "1       1          1             3738                 1297\n",
       "2       1          1             4261                 1335\n",
       "3       1          1             3777                 1282\n",
       "4       1          1             4177                 1590"
      ]
     },
     "execution_count": 2,
     "metadata": {},
     "output_type": "execute_result"
    }
   ],
   "source": [
    "df.head()"
   ]
  },
  {
   "cell_type": "markdown",
   "id": "ff78917a",
   "metadata": {},
   "source": [
    "---\n",
    "<font color=\"blue\">*Check number of rows and columns*</font>\n",
    "---"
   ]
  },
  {
   "cell_type": "code",
   "execution_count": 3,
   "id": "7f6e1d40",
   "metadata": {},
   "outputs": [
    {
     "data": {
      "text/plain": [
       "(237, 4)"
      ]
     },
     "execution_count": 3,
     "metadata": {},
     "output_type": "execute_result"
    }
   ],
   "source": [
    "df.shape"
   ]
  },
  {
   "cell_type": "markdown",
   "id": "65c59631",
   "metadata": {},
   "source": [
    "---\n",
    "<font color=\"blue\">*Describing statistical central tendencies*</font>\n",
    "---"
   ]
  },
  {
   "cell_type": "code",
   "execution_count": 6,
   "id": "40750a75",
   "metadata": {},
   "outputs": [
    {
     "data": {
      "text/html": [
       "<div>\n",
       "<style scoped>\n",
       "    .dataframe tbody tr th:only-of-type {\n",
       "        vertical-align: middle;\n",
       "    }\n",
       "\n",
       "    .dataframe tbody tr th {\n",
       "        vertical-align: top;\n",
       "    }\n",
       "\n",
       "    .dataframe thead th {\n",
       "        text-align: right;\n",
       "    }\n",
       "</style>\n",
       "<table border=\"1\" class=\"dataframe\">\n",
       "  <thead>\n",
       "    <tr style=\"text-align: right;\">\n",
       "      <th></th>\n",
       "      <th>Gender</th>\n",
       "      <th>Age Range</th>\n",
       "      <th>Head Size(cm^3)</th>\n",
       "      <th>Brain Weight(grams)</th>\n",
       "    </tr>\n",
       "  </thead>\n",
       "  <tbody>\n",
       "    <tr>\n",
       "      <th>count</th>\n",
       "      <td>237.000000</td>\n",
       "      <td>237.000000</td>\n",
       "      <td>237.000000</td>\n",
       "      <td>237.000000</td>\n",
       "    </tr>\n",
       "    <tr>\n",
       "      <th>mean</th>\n",
       "      <td>1.434599</td>\n",
       "      <td>1.535865</td>\n",
       "      <td>3633.991561</td>\n",
       "      <td>1282.873418</td>\n",
       "    </tr>\n",
       "    <tr>\n",
       "      <th>std</th>\n",
       "      <td>0.496753</td>\n",
       "      <td>0.499768</td>\n",
       "      <td>365.261422</td>\n",
       "      <td>120.340446</td>\n",
       "    </tr>\n",
       "    <tr>\n",
       "      <th>min</th>\n",
       "      <td>1.000000</td>\n",
       "      <td>1.000000</td>\n",
       "      <td>2720.000000</td>\n",
       "      <td>955.000000</td>\n",
       "    </tr>\n",
       "    <tr>\n",
       "      <th>25%</th>\n",
       "      <td>1.000000</td>\n",
       "      <td>1.000000</td>\n",
       "      <td>3389.000000</td>\n",
       "      <td>1207.000000</td>\n",
       "    </tr>\n",
       "    <tr>\n",
       "      <th>50%</th>\n",
       "      <td>1.000000</td>\n",
       "      <td>2.000000</td>\n",
       "      <td>3614.000000</td>\n",
       "      <td>1280.000000</td>\n",
       "    </tr>\n",
       "    <tr>\n",
       "      <th>75%</th>\n",
       "      <td>2.000000</td>\n",
       "      <td>2.000000</td>\n",
       "      <td>3876.000000</td>\n",
       "      <td>1350.000000</td>\n",
       "    </tr>\n",
       "    <tr>\n",
       "      <th>max</th>\n",
       "      <td>2.000000</td>\n",
       "      <td>2.000000</td>\n",
       "      <td>4747.000000</td>\n",
       "      <td>1635.000000</td>\n",
       "    </tr>\n",
       "  </tbody>\n",
       "</table>\n",
       "</div>"
      ],
      "text/plain": [
       "           Gender   Age Range  Head Size(cm^3)  Brain Weight(grams)\n",
       "count  237.000000  237.000000       237.000000           237.000000\n",
       "mean     1.434599    1.535865      3633.991561          1282.873418\n",
       "std      0.496753    0.499768       365.261422           120.340446\n",
       "min      1.000000    1.000000      2720.000000           955.000000\n",
       "25%      1.000000    1.000000      3389.000000          1207.000000\n",
       "50%      1.000000    2.000000      3614.000000          1280.000000\n",
       "75%      2.000000    2.000000      3876.000000          1350.000000\n",
       "max      2.000000    2.000000      4747.000000          1635.000000"
      ]
     },
     "execution_count": 6,
     "metadata": {},
     "output_type": "execute_result"
    }
   ],
   "source": [
    "df.describe()"
   ]
  },
  {
   "cell_type": "code",
   "execution_count": 7,
   "id": "f15da3e1",
   "metadata": {},
   "outputs": [
    {
     "data": {
      "text/plain": [
       "count     237.000000\n",
       "mean     3633.991561\n",
       "std       365.261422\n",
       "min      2720.000000\n",
       "25%      3389.000000\n",
       "50%      3614.000000\n",
       "75%      3876.000000\n",
       "max      4747.000000\n",
       "Name: Head Size(cm^3), dtype: float64"
      ]
     },
     "execution_count": 7,
     "metadata": {},
     "output_type": "execute_result"
    }
   ],
   "source": [
    "df['Head Size(cm^3)'].describe()"
   ]
  },
  {
   "cell_type": "markdown",
   "id": "68865ba8",
   "metadata": {},
   "source": [
    "---\n",
    "<font color=\"blue\">*Separating target and predictor variables*</font>\n",
    "---"
   ]
  },
  {
   "cell_type": "code",
   "execution_count": 24,
   "id": "90b7a309",
   "metadata": {},
   "outputs": [],
   "source": [
    "X=df['Head Size(cm^3)'].copy()\n",
    "Y=df['Brain Weight(grams)'].copy()"
   ]
  },
  {
   "cell_type": "markdown",
   "id": "098a1539",
   "metadata": {},
   "source": [
    "---\n",
    "<font color=\"blue\">*Drawing Scatter Plot of Data*</font>\n",
    "---"
   ]
  },
  {
   "cell_type": "code",
   "execution_count": 25,
   "id": "2330b54b",
   "metadata": {},
   "outputs": [
    {
     "data": {
      "image/png": "[encoded data removed]",
      "text/plain": [
       "<Figure size 1440x720 with 1 Axes>"
      ]
     },
     "metadata": {
      "needs_background": "light"
     },
     "output_type": "display_data"
    }
   ],
   "source": [
    "plt.scatter(X,Y,c='blue',label='Scatter Plot')\n",
    "plt.xlabel('Head Size in cm3')\n",
    "plt.xlabel('Brain Weight in grams')\n",
    "plt.legend()\n",
    "plt.show()"
   ]
  },
  {
   "cell_type": "markdown",
   "id": "0dc004ba",
   "metadata": {},
   "source": [
    "---\n",
    "<font color=\"blue\">*Importing scikit-learn methods*</font>\n",
    "---"
   ]
  },
  {
   "cell_type": "code",
   "execution_count": 29,
   "id": "912a9a57",
   "metadata": {},
   "outputs": [],
   "source": [
    "import seaborn as sns\n",
    "from sklearn import preprocessing\n",
    "from sklearn.model_selection import train_test_split\n",
    "from sklearn.linear_model import LinearRegression\n",
    "\n",
    "\n",
    "X=np.array(df['Head Size(cm^3)']).reshape(-1,1)\n",
    "Y=np.array(df['Brain Weight(grams)']).reshape(-1,1)"
   ]
  },
  {
   "cell_type": "markdown",
   "id": "88701ce6",
   "metadata": {},
   "source": [
    "---\n",
    "<font color=\"blue\">*Checking for null values*</font>\n",
    "---"
   ]
  },
  {
   "cell_type": "code",
   "execution_count": 30,
   "id": "fbe28669",
   "metadata": {},
   "outputs": [
    {
     "data": {
      "text/plain": [
       "Gender                 0\n",
       "Age Range              0\n",
       "Head Size(cm^3)        0\n",
       "Brain Weight(grams)    0\n",
       "dtype: int64"
      ]
     },
     "execution_count": 30,
     "metadata": {},
     "output_type": "execute_result"
    }
   ],
   "source": [
    "df.isnull().sum()"
   ]
  },
  {
   "cell_type": "markdown",
   "id": "45c34f6c",
   "metadata": {},
   "source": [
    "---\n",
    "<font color=\"blue\">*Fitting the Linear Regression model*</font>\n",
    "---"
   ]
  },
  {
   "cell_type": "code",
   "execution_count": 31,
   "id": "b4fa1e46",
   "metadata": {},
   "outputs": [
    {
     "data": {
      "text/plain": [
       "LinearRegression()"
      ]
     },
     "execution_count": 31,
     "metadata": {},
     "output_type": "execute_result"
    }
   ],
   "source": [
    "x_train,x_test,y_train,y_test=train_test_split(X,Y,test_size=0.25,random_state=42)\n",
    "reg=LinearRegression()\n",
    "reg.fit(x_train,y_train)\n"
   ]
  },
  {
   "cell_type": "code",
   "execution_count": 33,
   "id": "44927c91",
   "metadata": {},
   "outputs": [
    {
     "data": {
      "text/plain": [
       "array([[4512],\n",
       "       [3738],\n",
       "       [4261],\n",
       "       [3777],\n",
       "       [4177],\n",
       "       [3585],\n",
       "       [3785],\n",
       "       [3559],\n",
       "       [3613],\n",
       "       [3982],\n",
       "       [3443],\n",
       "       [3993],\n",
       "       [3640],\n",
       "       [4208],\n",
       "       [3832],\n",
       "       [3876],\n",
       "       [3497],\n",
       "       [3466],\n",
       "       [3095],\n",
       "       [4424],\n",
       "       [3878],\n",
       "       [4046],\n",
       "       [3804],\n",
       "       [3710],\n",
       "       [4747],\n",
       "       [4423],\n",
       "       [4036],\n",
       "       [4022],\n",
       "       [3454],\n",
       "       [4175],\n",
       "       [3787],\n",
       "       [3796],\n",
       "       [4103],\n",
       "       [4161],\n",
       "       [4158],\n",
       "       [3814],\n",
       "       [3527],\n",
       "       [3748],\n",
       "       [3334],\n",
       "       [3492],\n",
       "       [3962],\n",
       "       [3505],\n",
       "       [4315],\n",
       "       [3804],\n",
       "       [3863],\n",
       "       [4034],\n",
       "       [4308],\n",
       "       [3165],\n",
       "       [3641],\n",
       "       [3644],\n",
       "       [3891],\n",
       "       [3793],\n",
       "       [4270],\n",
       "       [4063],\n",
       "       [4012],\n",
       "       [3458],\n",
       "       [3890],\n",
       "       [4166],\n",
       "       [3935],\n",
       "       [3669],\n",
       "       [3866],\n",
       "       [3393],\n",
       "       [4442],\n",
       "       [4253],\n",
       "       [3727],\n",
       "       [3329],\n",
       "       [3415],\n",
       "       [3372],\n",
       "       [4430],\n",
       "       [4381],\n",
       "       [4008],\n",
       "       [3858],\n",
       "       [4121],\n",
       "       [4057],\n",
       "       [3824],\n",
       "       [3394],\n",
       "       [3558],\n",
       "       [3362],\n",
       "       [3930],\n",
       "       [3835],\n",
       "       [3830],\n",
       "       [3856],\n",
       "       [3249],\n",
       "       [3577],\n",
       "       [3933],\n",
       "       [3850],\n",
       "       [3309],\n",
       "       [3406],\n",
       "       [3506],\n",
       "       [3907],\n",
       "       [4160],\n",
       "       [3318],\n",
       "       [3662],\n",
       "       [3899],\n",
       "       [3700],\n",
       "       [3779],\n",
       "       [3473],\n",
       "       [3490],\n",
       "       [3654],\n",
       "       [3478],\n",
       "       [3495],\n",
       "       [3834],\n",
       "       [3876],\n",
       "       [3661],\n",
       "       [3618],\n",
       "       [3648],\n",
       "       [4032],\n",
       "       [3399],\n",
       "       [3916],\n",
       "       [4430],\n",
       "       [3695],\n",
       "       [3524],\n",
       "       [3571],\n",
       "       [3594],\n",
       "       [3383],\n",
       "       [3499],\n",
       "       [3589],\n",
       "       [3900],\n",
       "       [4114],\n",
       "       [3937],\n",
       "       [3399],\n",
       "       [4200],\n",
       "       [4488],\n",
       "       [3614],\n",
       "       [4051],\n",
       "       [3782],\n",
       "       [3391],\n",
       "       [3124],\n",
       "       [4053],\n",
       "       [3582],\n",
       "       [3666],\n",
       "       [3532],\n",
       "       [4046],\n",
       "       [3667],\n",
       "       [2857],\n",
       "       [3436],\n",
       "       [3791],\n",
       "       [3302],\n",
       "       [3104],\n",
       "       [3171],\n",
       "       [3572],\n",
       "       [3530],\n",
       "       [3175],\n",
       "       [3438],\n",
       "       [3903],\n",
       "       [3899],\n",
       "       [3401],\n",
       "       [3267],\n",
       "       [3451],\n",
       "       [3090],\n",
       "       [3413],\n",
       "       [3323],\n",
       "       [3680],\n",
       "       [3439],\n",
       "       [3853],\n",
       "       [3156],\n",
       "       [3279],\n",
       "       [3707],\n",
       "       [4006],\n",
       "       [3269],\n",
       "       [3071],\n",
       "       [3779],\n",
       "       [3548],\n",
       "       [3292],\n",
       "       [3497],\n",
       "       [3082],\n",
       "       [3248],\n",
       "       [3358],\n",
       "       [3803],\n",
       "       [3566],\n",
       "       [3145],\n",
       "       [3503],\n",
       "       [3571],\n",
       "       [3724],\n",
       "       [3615],\n",
       "       [3203],\n",
       "       [3609],\n",
       "       [3561],\n",
       "       [3979],\n",
       "       [3533],\n",
       "       [3689],\n",
       "       [3158],\n",
       "       [4005],\n",
       "       [3181],\n",
       "       [3479],\n",
       "       [3642],\n",
       "       [3632],\n",
       "       [3069],\n",
       "       [3394],\n",
       "       [3703],\n",
       "       [3165],\n",
       "       [3354],\n",
       "       [3000],\n",
       "       [3687],\n",
       "       [3556],\n",
       "       [2773],\n",
       "       [3058],\n",
       "       [3344],\n",
       "       [3493],\n",
       "       [3297],\n",
       "       [3360],\n",
       "       [3228],\n",
       "       [3277],\n",
       "       [3851],\n",
       "       [3067],\n",
       "       [3692],\n",
       "       [3402],\n",
       "       [3995],\n",
       "       [3318],\n",
       "       [2720],\n",
       "       [2937],\n",
       "       [3580],\n",
       "       [2939],\n",
       "       [2989],\n",
       "       [3586],\n",
       "       [3156],\n",
       "       [3246],\n",
       "       [3170],\n",
       "       [3268],\n",
       "       [3389],\n",
       "       [3381],\n",
       "       [2864],\n",
       "       [3740],\n",
       "       [3479],\n",
       "       [3647],\n",
       "       [3716],\n",
       "       [3284],\n",
       "       [4204],\n",
       "       [3735],\n",
       "       [3218],\n",
       "       [3685],\n",
       "       [3704],\n",
       "       [3214],\n",
       "       [3394],\n",
       "       [3233],\n",
       "       [3352],\n",
       "       [3391]], dtype=int64)"
      ]
     },
     "execution_count": 33,
     "metadata": {},
     "output_type": "execute_result"
    }
   ],
   "source": [
    "X"
   ]
  },
  {
   "cell_type": "markdown",
   "id": "a0f8ffcf",
   "metadata": {},
   "source": [
    "---\n",
    "<font color=\"blue\">*Checking the Regression Line on test values*</font>\n",
    "---"
   ]
  },
  {
   "cell_type": "code",
   "execution_count": 34,
   "id": "a26fa631",
   "metadata": {},
   "outputs": [
    {
     "data": {
      "image/png": "[encoded data removed]",
      "text/plain": [
       "<Figure size 1440x720 with 1 Axes>"
      ]
     },
     "metadata": {
      "needs_background": "light"
     },
     "output_type": "display_data"
    }
   ],
   "source": [
    "y_pred=reg.predict(x_test)\n",
    "plt.scatter(x_test,y_test,color='b')\n",
    "\n",
    "plt.plot(x_test,y_pred,color='black')\n",
    "plt.show()"
   ]
  },
  {
   "cell_type": "code",
   "execution_count": 35,
   "id": "795c572d",
   "metadata": {},
   "outputs": [
    {
     "data": {
      "text/plain": [
       "0.6639419959237762"
      ]
     },
     "execution_count": 35,
     "metadata": {},
     "output_type": "execute_result"
    }
   ],
   "source": [
    "reg.score(x_test,y_test)"
   ]
  },
  {
   "cell_type": "markdown",
   "id": "8bf37647",
   "metadata": {},
   "source": [
    "---\n",
    "<font color=\"blue\">*Checking the Regression Line on the entire dataset*</font>\n",
    "---"
   ]
  },
  {
   "cell_type": "code",
   "execution_count": 36,
   "id": "06b1a5f0",
   "metadata": {},
   "outputs": [
    {
     "data": {
      "image/png": "[encoded data removed]",
      "text/plain": [
       "<Figure size 1440x720 with 1 Axes>"
      ]
     },
     "metadata": {
      "needs_background": "light"
     },
     "output_type": "display_data"
    }
   ],
   "source": [
    "y_pred1=reg.predict(X)\n",
    "\n",
    "plt.scatter(X,Y,color='b')\n",
    "\n",
    "plt.plot(X,y_pred1,color='black')\n",
    "plt.show()"
   ]
  },
  {
   "cell_type": "markdown",
   "id": "f5230832",
   "metadata": {},
   "source": [
    "---\n",
    "<font color=\"blue\">*Checking the Regression Performance*</font>\n",
    "---"
   ]
  },
  {
   "cell_type": "code",
   "execution_count": 37,
   "id": "b62aefdd",
   "metadata": {},
   "outputs": [
    {
     "data": {
      "text/plain": [
       "0.6390102301899855"
      ]
     },
     "execution_count": 37,
     "metadata": {},
     "output_type": "execute_result"
    }
   ],
   "source": [
    "reg.score(X,Y)"
   ]
  },
  {
   "cell_type": "code",
   "execution_count": 39,
   "id": "91142c74",
   "metadata": {},
   "outputs": [
    {
     "name": "stdout",
     "output_type": "stream",
     "text": [
      "[[0.26714262]]\n"
     ]
    }
   ],
   "source": [
    "print(reg.coef_)"
   ]
  },
  {
   "cell_type": "code",
   "execution_count": 41,
   "id": "7b4d98ee",
   "metadata": {},
   "outputs": [
    {
     "data": {
      "text/plain": [
       "4885.903540374242"
      ]
     },
     "execution_count": 41,
     "metadata": {},
     "output_type": "execute_result"
    }
   ],
   "source": [
    "from sklearn.metrics import mean_squared_error,r2_score\n",
    "\n",
    "mean_squared_error(y_test,y_pred)"
   ]
  },
  {
   "cell_type": "code",
   "execution_count": 42,
   "id": "72cfffd5",
   "metadata": {},
   "outputs": [
    {
     "data": {
      "text/plain": [
       "0.6639419959237762"
      ]
     },
     "execution_count": 42,
     "metadata": {},
     "output_type": "execute_result"
    }
   ],
   "source": [
    "r2_score(y_test,y_pred)"
   ]
  },
  {
   "cell_type": "code",
   "execution_count": 43,
   "id": "22e0dc28",
   "metadata": {},
   "outputs": [],
   "source": [
    "import statsmodels.api as sm"
   ]
  },
  {
   "cell_type": "code",
   "execution_count": 44,
   "id": "137e86e8",
   "metadata": {},
   "outputs": [
    {
     "data": {
      "text/plain": [
       "0.6393117199570002"
      ]
     },
     "execution_count": 44,
     "metadata": {},
     "output_type": "execute_result"
    }
   ],
   "source": [
    "X1=sm.add_constant(X)\n",
    "result=sm.OLS(Y,X1).fit()\n",
    "\n",
    "result.rsquared\n"
   ]
  },
  {
   "cell_type": "code",
   "execution_count": null,
   "id": "8c1395e5",
   "metadata": {},
   "outputs": [],
   "source": []
  }
 ],
 "metadata": {
  "kernelspec": {
   "display_name": "Python 3",
   "language": "python",
   "name": "python3"
  },
  "language_info": {
   "codemirror_mode": {
    "name": "ipython",
    "version": 3
   },
   "file_extension": ".py",
   "mimetype": "text/x-python",
   "name": "python",
   "nbconvert_exporter": "python",
   "pygments_lexer": "ipython3",
   "version": "3.8.8"
  }
 },
 "nbformat": 4,
 "nbformat_minor": 5
}
